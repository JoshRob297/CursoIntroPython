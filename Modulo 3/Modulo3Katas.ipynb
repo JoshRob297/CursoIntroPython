{
 "cells": [
  {
   "cell_type": "markdown",
   "metadata": {},
   "source": [
    "## Escribir declaraciones if, else, y elif"
   ]
  },
  {
   "cell_type": "code",
   "execution_count": 8,
   "metadata": {},
   "outputs": [
    {
     "name": "stdout",
     "output_type": "stream",
     "text": [
      "¡¡PELIGRO!! ¡¡La velocidad del asteroide es de 49 km/s!!\n"
     ]
    }
   ],
   "source": [
    "# Un asteroide se acerca, y viaja a una velocidad de 49 km/s.\n",
    "# Cualquier velocidad superior a 25 kilómetros por segundo (km/s) merece una advertencia.\n",
    "\n",
    "vasteroide = 49\n",
    "if vasteroide > 25:\n",
    "    print('¡¡PELIGRO!! ¡¡La velocidad del asteroide es de '+ str (vasteroide) + ' km/s!!')\n",
    "else:\n",
    "    print('Sin peligro aparente, La velocidad del asteroide es de '+ str (vasteroide) + 'km/s')"
   ]
  },
  {
   "cell_type": "code",
   "execution_count": 12,
   "metadata": {},
   "outputs": [
    {
     "name": "stdout",
     "output_type": "stream",
     "text": [
      "¡¡ALERTA!! ¡Asteroide pero no es visible en el cielo!\n"
     ]
    }
   ],
   "source": [
    "# Un asteroide se acerca, y viaja a una velocidad de 19 km/s.\n",
    "# A una velocidad mayor o igual a 20 km/s, a veces produce un rayo de luz que se puede ver desde la Tierra\n",
    "\n",
    "vasteroide = 19\n",
    "if vasteroide >= 20:\n",
    "    print('¡¡ALERTA!! ¡Asteroide visible en el cielo!')\n",
    "elif vasteroide >=1 :\n",
    "    print('¡¡ALERTA!! ¡Asteroide pero no es visible en el cielo!')\n",
    "else:\n",
    "    print('¡Sin peligro aparente!')"
   ]
  },
  {
   "cell_type": "code",
   "execution_count": 61,
   "metadata": {},
   "outputs": [
    {
     "name": "stdout",
     "output_type": "stream",
     "text": [
      "Sin peligro aparente :)\n"
     ]
    }
   ],
   "source": [
    "# Los asteroides de menos de 25 metros se quemarán a medida que entren en la atmósfera de la Tierra.\n",
    "# Si una pieza de un asteroide que es más grande que 25 metros golpeara la Tierra, causaría mucho daño.\n",
    "# Cualquier velocidad superior a 25 kilómetros por segundo (km/s) merece una advertencia.\n",
    "# Si un asteroide entra en la atmósfera de la Tierra a una velocidad mayor o igual a 20 km/s, produce un rayo de luz que se puede ver desde la Tierra.\n",
    "\n",
    "v_asteroide = 19\n",
    "t_asteroide = 24\n",
    "if v_asteroide >= 20 :\n",
    "    print('¡Asteroide visible en el cielo!')\n",
    "    if t_asteroide >= 25:\n",
    "        print('¡¡IMPACTO INMINENTE!! ¡¡Asteroide grande a velocidad de '+ str (v_asteroide) + ' km/s!!')\n",
    "    elif t_asteroide <25 :\n",
    "        print('Sin peligro aparente, el asteroide se quemara al ingresar a la atmosfera')\n",
    "elif t_asteroide >= 25:\n",
    "        print('Sin peligro aparente, el asteroide viene muy lento')\n",
    "else:\n",
    "        print('Sin peligro aparente :)')"
   ]
  }
 ],
 "metadata": {
  "interpreter": {
   "hash": "326f8ab9705378e317b6bddafac12144e4a2b02184a1e2a20b8b4aa55eebe989"
  },
  "kernelspec": {
   "display_name": "Python 3.10.2 64-bit",
   "language": "python",
   "name": "python3"
  },
  "language_info": {
   "codemirror_mode": {
    "name": "ipython",
    "version": 3
   },
   "file_extension": ".py",
   "mimetype": "text/x-python",
   "name": "python",
   "nbconvert_exporter": "python",
   "pygments_lexer": "ipython3",
   "version": "3.10.2"
  },
  "orig_nbformat": 4
 },
 "nbformat": 4,
 "nbformat_minor": 2
}
